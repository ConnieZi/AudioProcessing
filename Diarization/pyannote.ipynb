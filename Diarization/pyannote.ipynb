{
 "cells": [
  {
   "cell_type": "code",
   "execution_count": 2,
   "metadata": {},
   "outputs": [
    {
     "name": "stderr",
     "output_type": "stream",
     "text": [
      "/home/kangying/anaconda3/envs/pyannote/lib/python3.8/site-packages/tqdm/auto.py:22: TqdmWarning: IProgress not found. Please update jupyter and ipywidgets. See https://ipywidgets.readthedocs.io/en/stable/user_install.html\n",
      "  from .autonotebook import tqdm as notebook_tqdm\n"
     ]
    }
   ],
   "source": [
    "# python==3.8\n",
    "\n",
    "import os\n",
    "from pyannote.audio import Pipeline\n",
    "from pyannote.core import Annotation, Segment, notebook\n",
    "\n",
    "import matplotlib.pyplot as plt\n",
    "\n",
    "pipeline = Pipeline.from_pretrained(\"pyannote/speaker-diarization\")\n",
    "\n",
    "# apply pretrained pipeline\n",
    "dir = os.path.dirname(os.getcwd())\n",
    "WAV_FILE = dir + '/audios/record-672279722.51811.wav'\n",
    "diarization = pipeline(WAV_FILE)\n",
    "\n",
    "# print the result\n",
    "result = []\n",
    "for turn, _, speaker in diarization.itertracks(yield_label=True):\n",
    "    # print(f\"start={turn.start:.1f}s stop={turn.end:.1f}s speaker_{speaker}\")\n",
    "    result.append([float(\"{:.1f}\".format(turn.start)), float(\"{:.1f}\".format(turn.end)),speaker])\n"
   ]
  },
  {
   "cell_type": "code",
   "execution_count": 1,
   "metadata": {},
   "outputs": [
    {
     "ename": "NameError",
     "evalue": "name 'Annotation' is not defined",
     "output_type": "error",
     "traceback": [
      "\u001b[0;31m---------------------------------------------------------------------------\u001b[0m",
      "\u001b[0;31mNameError\u001b[0m                                 Traceback (most recent call last)",
      "\u001b[1;32m/home/kangying/Desktop/Code/AudioProcessing/Diarization/pyannote.ipynb Cell 2\u001b[0m in \u001b[0;36m<cell line: 4>\u001b[0;34m()\u001b[0m\n\u001b[1;32m      <a href='vscode-notebook-cell:/home/kangying/Desktop/Code/AudioProcessing/Diarization/pyannote.ipynb#W1sZmlsZQ%3D%3D?line=1'>2</a>\u001b[0m \u001b[39mimport\u001b[39;00m \u001b[39mmath\u001b[39;00m\n\u001b[1;32m      <a href='vscode-notebook-cell:/home/kangying/Desktop/Code/AudioProcessing/Diarization/pyannote.ipynb#W1sZmlsZQ%3D%3D?line=2'>3</a>\u001b[0m \u001b[39m# Producing annotation graph\u001b[39;00m\n\u001b[0;32m----> <a href='vscode-notebook-cell:/home/kangying/Desktop/Code/AudioProcessing/Diarization/pyannote.ipynb#W1sZmlsZQ%3D%3D?line=3'>4</a>\u001b[0m annotation \u001b[39m=\u001b[39m Annotation()\n\u001b[1;32m      <a href='vscode-notebook-cell:/home/kangying/Desktop/Code/AudioProcessing/Diarization/pyannote.ipynb#W1sZmlsZQ%3D%3D?line=4'>5</a>\u001b[0m \u001b[39mfor\u001b[39;00m i \u001b[39min\u001b[39;00m result:\n\u001b[1;32m      <a href='vscode-notebook-cell:/home/kangying/Desktop/Code/AudioProcessing/Diarization/pyannote.ipynb#W1sZmlsZQ%3D%3D?line=5'>6</a>\u001b[0m     annotation[Segment(i[\u001b[39m0\u001b[39m], i[\u001b[39m1\u001b[39m])] \u001b[39m=\u001b[39m i[\u001b[39m2\u001b[39m]\n",
      "\u001b[0;31mNameError\u001b[0m: name 'Annotation' is not defined"
     ]
    }
   ],
   "source": [
    "import numpy as np\n",
    "import math\n",
    "# Producing annotation graph\n",
    "annotation = Annotation()\n",
    "for i in result:\n",
    "    annotation[Segment(i[0], i[1])] = i[2]\n",
    "\n",
    "from pyannote.core import notebook\n",
    "from pyannote.core.notebook import repr_annotation\n",
    "import matplotlib.pyplot as plt\n",
    "import matplotlib.image as mpimg\n",
    "from io import BytesIO\n",
    "\n",
    "# Get `png` data for `annotation`\n",
    "png_data = repr_annotation(annotation)\n",
    "# load raw data into a BytesIO container to wrap that data to make it work like a file obkect\n",
    "img = mpimg.imread(BytesIO(png_data))\n",
    "\n",
    "# can't adjust the tick interval since it's the png data being output from the above function\n",
    "# notebook.width = 20\n",
    "# plt.rcParams['figure.figsize'] = (notebook.width, 2)\n",
    "# end_time = result[-1][1]\n",
    "# plt.xticks(np.arange(0, math.ceil(end_time), 5))\n",
    "\n",
    "imgplot = plt.imshow(img)\n"
   ]
  }
 ],
 "metadata": {
  "kernelspec": {
   "display_name": "Python 3.8.13 ('pyannote')",
   "language": "python",
   "name": "python3"
  },
  "language_info": {
   "codemirror_mode": {
    "name": "ipython",
    "version": 3
   },
   "file_extension": ".py",
   "mimetype": "text/x-python",
   "name": "python",
   "nbconvert_exporter": "python",
   "pygments_lexer": "ipython3",
   "version": "3.8.13"
  },
  "orig_nbformat": 4,
  "vscode": {
   "interpreter": {
    "hash": "72e7159e00d8e547572961d7446f914f4bf327443ef23d57bc5ee53b68a8c5b9"
   }
  }
 },
 "nbformat": 4,
 "nbformat_minor": 2
}
