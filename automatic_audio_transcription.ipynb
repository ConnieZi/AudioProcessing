{
 "cells": [
  {
   "cell_type": "code",
   "execution_count": 2,
   "metadata": {
    "collapsed": true
   },
   "outputs": [],
   "source": [
    "import whisper\n",
    "from whisper.utils import get_writer"
   ]
  },
  {
   "cell_type": "code",
   "execution_count": 3,
   "outputs": [],
   "source": [
    "model = whisper.load_model(\"base\")"
   ],
   "metadata": {
    "collapsed": false
   }
  },
  {
   "cell_type": "code",
   "execution_count": 8,
   "outputs": [],
   "source": [
    "#audio = \"../EMBRACE-data-analysis/data/spanish_dummy_test.m4a\"\n",
    "\n",
    "#Audio in English from ASU\n",
    "audio = \"../EMBRACE-data-analysis/data/asu/par001-record-656468528.8997459.wav\"\n",
    "\n",
    "#Audio in Spanish from Pitt\n",
    "#audio = \"../EMBRACE-data-analysis/data/record-667269360.9571331.wav\"\n",
    "\n",
    "#Audio in Spanish from Pitt Summer 23\n",
    "audio = \"../EMBRACE-data-analysis/data/summer23-pitt/Family_09/09_Chromebook Data/09_voice-recordings/voice-recording-1683906678216-1683906859417.mp3\"\n",
    "#en for English and es for Spanish\n",
    "result = model.transcribe(audio, fp16=False, language='es')\n",
    "\n",
    "#with open(\"transcription.txt\", \"w\", encoding=\"utf-8\") as txt:\n",
    "#    txt.write(result[\"text\"])\n",
    "\n",
    "output_directory = \"../EMBRACE-data-analysis/data/transcriptions\"\n",
    "\n",
    "# Set some initial options values\n",
    "options = {\n",
    "    'max_line_width': None,\n",
    "    'max_line_count': None,\n",
    "    'highlight_words': False\n",
    "}\n",
    "\n",
    "# Save as an SRT file\n",
    "srt_writer = get_writer(\"srt\", output_directory)\n",
    "srt_writer(result, audio, options)\n",
    "\n",
    "\n",
    "# Save as a VTT file\n",
    "vtt_writer = get_writer(\"vtt\", output_directory)\n",
    "vtt_writer(result, audio, options)\n",
    "\n"
   ],
   "metadata": {
    "collapsed": false
   }
  },
  {
   "cell_type": "code",
   "execution_count": null,
   "outputs": [],
   "source": [],
   "metadata": {
    "collapsed": false
   }
  }
 ],
 "metadata": {
  "kernelspec": {
   "display_name": "Python 3",
   "language": "python",
   "name": "python3"
  },
  "language_info": {
   "codemirror_mode": {
    "name": "ipython",
    "version": 2
   },
   "file_extension": ".py",
   "mimetype": "text/x-python",
   "name": "python",
   "nbconvert_exporter": "python",
   "pygments_lexer": "ipython2",
   "version": "2.7.6"
  }
 },
 "nbformat": 4,
 "nbformat_minor": 0
}
