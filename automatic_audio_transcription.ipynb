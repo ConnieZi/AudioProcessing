{
 "cells": [
  {
   "cell_type": "code",
   "execution_count": 1,
   "metadata": {
    "collapsed": true
   },
   "outputs": [],
   "source": [
    "import whisper\n",
    "from whisper.utils import get_writer"
   ]
  },
  {
   "cell_type": "code",
   "execution_count": 2,
   "outputs": [],
   "source": [
    "model = whisper.load_model(\"base\")"
   ],
   "metadata": {
    "collapsed": false
   }
  },
  {
   "cell_type": "code",
   "execution_count": 4,
   "outputs": [
    {
     "ename": "FileNotFoundError",
     "evalue": "[Errno 2] No such file or directory: '../EMBRACE-data-analysis/data/transcriptions/voice-recording-1683906678216-1683906859417.srt'",
     "output_type": "error",
     "traceback": [
      "\u001B[0;31m---------------------------------------------------------------------------\u001B[0m",
      "\u001B[0;31mFileNotFoundError\u001B[0m                         Traceback (most recent call last)",
      "Cell \u001B[0;32mIn[4], line 28\u001B[0m\n\u001B[1;32m     26\u001B[0m \u001B[38;5;66;03m# Save as an SRT file\u001B[39;00m\n\u001B[1;32m     27\u001B[0m srt_writer \u001B[38;5;241m=\u001B[39m get_writer(\u001B[38;5;124m\"\u001B[39m\u001B[38;5;124msrt\u001B[39m\u001B[38;5;124m\"\u001B[39m, output_directory)\n\u001B[0;32m---> 28\u001B[0m \u001B[43msrt_writer\u001B[49m\u001B[43m(\u001B[49m\u001B[43mresult\u001B[49m\u001B[43m,\u001B[49m\u001B[43m \u001B[49m\u001B[43maudio\u001B[49m\u001B[43m,\u001B[49m\u001B[43m \u001B[49m\u001B[43moptions\u001B[49m\u001B[43m)\u001B[49m\n\u001B[1;32m     31\u001B[0m \u001B[38;5;66;03m# Save as a VTT file\u001B[39;00m\n\u001B[1;32m     32\u001B[0m vtt_writer \u001B[38;5;241m=\u001B[39m get_writer(\u001B[38;5;124m\"\u001B[39m\u001B[38;5;124mvtt\u001B[39m\u001B[38;5;124m\"\u001B[39m, output_directory)\n",
      "File \u001B[0;32m~/miniconda3/envs/pyannote/lib/python3.8/site-packages/whisper/utils.py:84\u001B[0m, in \u001B[0;36mResultWriter.__call__\u001B[0;34m(self, result, audio_path, options)\u001B[0m\n\u001B[1;32m     79\u001B[0m audio_basename \u001B[38;5;241m=\u001B[39m os\u001B[38;5;241m.\u001B[39mpath\u001B[38;5;241m.\u001B[39msplitext(audio_basename)[\u001B[38;5;241m0\u001B[39m]\n\u001B[1;32m     80\u001B[0m output_path \u001B[38;5;241m=\u001B[39m os\u001B[38;5;241m.\u001B[39mpath\u001B[38;5;241m.\u001B[39mjoin(\n\u001B[1;32m     81\u001B[0m     \u001B[38;5;28mself\u001B[39m\u001B[38;5;241m.\u001B[39moutput_dir, audio_basename \u001B[38;5;241m+\u001B[39m \u001B[38;5;124m\"\u001B[39m\u001B[38;5;124m.\u001B[39m\u001B[38;5;124m\"\u001B[39m \u001B[38;5;241m+\u001B[39m \u001B[38;5;28mself\u001B[39m\u001B[38;5;241m.\u001B[39mextension\n\u001B[1;32m     82\u001B[0m )\n\u001B[0;32m---> 84\u001B[0m \u001B[38;5;28;01mwith\u001B[39;00m \u001B[38;5;28;43mopen\u001B[39;49m\u001B[43m(\u001B[49m\u001B[43moutput_path\u001B[49m\u001B[43m,\u001B[49m\u001B[43m \u001B[49m\u001B[38;5;124;43m\"\u001B[39;49m\u001B[38;5;124;43mw\u001B[39;49m\u001B[38;5;124;43m\"\u001B[39;49m\u001B[43m,\u001B[49m\u001B[43m \u001B[49m\u001B[43mencoding\u001B[49m\u001B[38;5;241;43m=\u001B[39;49m\u001B[38;5;124;43m\"\u001B[39;49m\u001B[38;5;124;43mutf-8\u001B[39;49m\u001B[38;5;124;43m\"\u001B[39;49m\u001B[43m)\u001B[49m \u001B[38;5;28;01mas\u001B[39;00m f:\n\u001B[1;32m     85\u001B[0m     \u001B[38;5;28mself\u001B[39m\u001B[38;5;241m.\u001B[39mwrite_result(result, file\u001B[38;5;241m=\u001B[39mf, options\u001B[38;5;241m=\u001B[39moptions)\n",
      "\u001B[0;31mFileNotFoundError\u001B[0m: [Errno 2] No such file or directory: '../EMBRACE-data-analysis/data/transcriptions/voice-recording-1683906678216-1683906859417.srt'"
     ]
    }
   ],
   "source": [
    "#audio = \"../EMBRACE-data-analysis/data/spanish_dummy_test.m4a\"\n",
    "\n",
    "#Audio in English from ASU\n",
    "#audio = \"../EMBRACE-data-analysis/data/asu/par001-record-656468528.8997459.wav\"\n",
    "\n",
    "#Audio in Spanish from Pitt\n",
    "#audio = \"../EMBRACE-data-analysis/data/record-667269360.9571331.wav\"\n",
    "\n",
    "#Audio in Spanish from Pitt Summer 23\n",
    "audio = \"../EMBRACE-data-analysis/data/summer23-pitt/Family_09/09_Chromebook Data/09_voice-recordings/voice-recording-1683906678216-1683906859417.mp3\"\n",
    "#en for English and es for Spanish\n",
    "result = model.transcribe(audio, fp16=False, language='es')\n",
    "\n",
    "with open(\"transcription.txt\", \"w\", encoding=\"utf-8\") as txt:\n",
    "    txt.write(result[\"text\"])\n",
    "\n",
    "output_directory = \"../EMBRACE-data-analysis/data/transcriptions\"\n",
    "\n",
    "# Set some initial options values\n",
    "options = {\n",
    "    'max_line_width': None,\n",
    "    'max_line_count': None,\n",
    "    'highlight_words': False\n",
    "}\n",
    "\n",
    "# Save as an SRT file\n",
    "srt_writer = get_writer(\"srt\", output_directory)\n",
    "srt_writer(result, audio, options)\n",
    "\n",
    "\n",
    "# Save as a VTT file\n",
    "vtt_writer = get_writer(\"vtt\", output_directory)\n",
    "vtt_writer(result, audio, options)\n",
    "\n"
   ],
   "metadata": {
    "collapsed": false
   }
  },
  {
   "cell_type": "code",
   "execution_count": null,
   "outputs": [],
   "source": [],
   "metadata": {
    "collapsed": false
   }
  }
 ],
 "metadata": {
  "kernelspec": {
   "display_name": "Python 3",
   "language": "python",
   "name": "python3"
  },
  "language_info": {
   "codemirror_mode": {
    "name": "ipython",
    "version": 2
   },
   "file_extension": ".py",
   "mimetype": "text/x-python",
   "name": "python",
   "nbconvert_exporter": "python",
   "pygments_lexer": "ipython2",
   "version": "2.7.6"
  }
 },
 "nbformat": 4,
 "nbformat_minor": 0
}
